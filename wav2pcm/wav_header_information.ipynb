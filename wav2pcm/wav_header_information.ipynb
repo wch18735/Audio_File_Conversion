{
 "cells": [
  {
   "cell_type": "markdown",
   "metadata": {},
   "source": [
    "### PCM data read\n",
    "------\n",
    "- **pcm audio file**: header 없이 raw data만 저장한 파일\n",
    "- **pcm format** 으로 저장된 오디오는 별도로 오디오에 대한 정보를 가지고 있지 않으면 제대로 play할 수 없음\n",
    "- **Parameters**   \n",
    "`  \n",
    "sampling rate  \n",
    "bit size  \n",
    "endian  \n",
    "channels  \n",
    "`\n",
    "- 초기 header가 **RIFF Format** 이라면 Little endian 형식으로 wav header만 붙여주면 wav play 가능"
   ]
  },
  {
   "cell_type": "markdown",
   "metadata": {},
   "source": [
    "#### RIFF\n",
    "------\n",
    "- Resource Interchange File Format\n",
    "- 동영상 재생을 위해 마이크로스프트가 만든 내부 데이터 포맷"
   ]
  },
  {
   "cell_type": "code",
   "execution_count": 10,
   "metadata": {},
   "outputs": [
    {
     "name": "stdout",
     "output_type": "stream",
     "text": [
      "[-32 -32 -29 ...  -3  -1   4]\n"
     ]
    }
   ],
   "source": [
    "import numpy as np\n",
    "data = np.memmap(\"./example.pcm\", dtype='int16',mode='r')\n",
    "print(data)"
   ]
  },
  {
   "cell_type": "markdown",
   "metadata": {},
   "source": [
    "#### numpy.memmap\n",
    "------\n",
    "- https://numpy.org/devdocs/reference/generated/numpy.memmap.html\n",
    "- `'h'` 는 hexa를 뜻하며 `'int16'` 과 같이 동작한다.  \n",
    "**::** hexa == int16 == 16bits  \n",
    "**::** `print(type(data[0]))` == <class 'numpy.int16'>\n",
    "- 이는 PCM Quantization (양자화) 수준에 따라 달라질 것으로 예상함"
   ]
  },
  {
   "cell_type": "markdown",
   "metadata": {},
   "source": [
    "#### AI_Hub audio format\n",
    "--------\n",
    "- 16kHz/16bits **(sample rate/quantization resolution)**\n",
    "- headerless\n",
    "- little endian\n",
    "- linear PCM\n",
    "- Channel이 mono이기 때문에 모두 Real Signal로 해석 가능 (Phase 0 or PI)"
   ]
  },
  {
   "cell_type": "markdown",
   "metadata": {},
   "source": [
    "##### Header Implement"
   ]
  },
  {
   "cell_type": "markdown",
   "metadata": {},
   "source": [
    "![wav header](./img/wav_header.jpg)"
   ]
  },
  {
   "cell_type": "markdown",
   "metadata": {},
   "source": [
    "#### audio length"
   ]
  },
  {
   "cell_type": "code",
   "execution_count": 17,
   "metadata": {},
   "outputs": [
    {
     "name": "stdout",
     "output_type": "stream",
     "text": [
      "길이: 3.148 s\n"
     ]
    }
   ],
   "source": [
    "sample_rate = 16000\n",
    "print(\"길이: %.3f s\" % (data.shape[0]/sample_rate))"
   ]
  }
 ],
 "metadata": {
  "kernelspec": {
   "display_name": "Python 3",
   "language": "python",
   "name": "python3"
  },
  "language_info": {
   "codemirror_mode": {
    "name": "ipython",
    "version": 3
   },
   "file_extension": ".py",
   "mimetype": "text/x-python",
   "name": "python",
   "nbconvert_exporter": "python",
   "pygments_lexer": "ipython3",
   "version": "3.7.4"
  }
 },
 "nbformat": 4,
 "nbformat_minor": 2
}
