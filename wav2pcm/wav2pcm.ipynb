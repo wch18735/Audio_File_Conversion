{
 "cells": [
  {
   "cell_type": "code",
   "execution_count": null,
   "metadata": {},
   "outputs": [],
   "source": [
    "class Wav2Pcm(object):\n",
    "    def __call__(self, wav_path, pcm_path):\n",
    "        sample_Rate, bit_rate, pcmdata = self.convert(wav_path)\n",
    "\n",
    "        with open(pcm_path, 'wb') as pcm:\n",
    "            pcm.write(pcmdata)\n",
    "    \n",
    "    def _get_field(self, wav, offset, lent):\n",
    "        \"\"\"\n",
    "        Get values for filed. This is only working for fields with byteorder little\n",
    "        Args :\n",
    "          wav : the wave file\n",
    "          offset : which position to start at.\n",
    "          lent : length of field\n",
    "        Return :\n",
    "          Int of the desired field.\n",
    "        \"\"\"\n",
    "        wav.seek(0)\n",
    "        wav.seek(offset, 0)\n",
    "        return int.from_bytes(wav.read(lent), byteorder='little')\n",
    "\n",
    "    def convert(self, wav_in):\n",
    "        \"\"\"\n",
    "        Get the sample rate, bit rate and PCM raw bytes from a wav.\n",
    "        Args :\n",
    "          wav_in : wave file, or string with path to wave file.\n",
    "        Return :\n",
    "          sample_rate : int representing the wave file sample rate\n",
    "          bit_rate : int repesenting the wave file bit rate\n",
    "          pcm : bytes representing the raw sound.\n",
    "        \"\"\"\n",
    "        if type(wav_in) is str:\n",
    "            wav_file = open(wav_in, 'rb')\n",
    "        else:\n",
    "            wav_file = wav_in\n",
    "        header_size = self._get_field(wav_file, 16, 4)\n",
    "        sample_rate = self._get_field(wav_file, 24, 4)\n",
    "        bit_rate = self._get_field(wav_file, 34, 2)\n",
    "        wav_file.seek(0)\n",
    "        \n",
    "        if header_size == 16:\n",
    "            data = wav_file.read()[44:]\n",
    "            \n",
    "        elif header_size == 18:\n",
    "            data = wav_file.read()[46:]\n",
    "            \n",
    "        else:\n",
    "            print(\"WAV format unknown\")\n",
    "            exit(1)\n",
    "            \n",
    "        wav_file.close()\n",
    "        return sample_rate, bit_rate, data"
   ]
  }
 ],
 "metadata": {
  "kernelspec": {
   "display_name": "Python 3",
   "language": "python",
   "name": "python3"
  },
  "language_info": {
   "codemirror_mode": {
    "name": "ipython",
    "version": 3
   },
   "file_extension": ".py",
   "mimetype": "text/x-python",
   "name": "python",
   "nbconvert_exporter": "python",
   "pygments_lexer": "ipython3",
   "version": "3.7.4"
  }
 },
 "nbformat": 4,
 "nbformat_minor": 2
}
