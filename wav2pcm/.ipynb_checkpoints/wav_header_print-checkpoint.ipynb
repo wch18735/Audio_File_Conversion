{
 "cells": [
  {
   "cell_type": "code",
   "execution_count": 2,
   "metadata": {},
   "outputs": [
    {
     "ename": "SyntaxError",
     "evalue": "Missing parentheses in call to 'print'. Did you mean print(\"Invalid argument. Exactly one wave file location required as argument\")? (<ipython-input-2-8ca783675601>, line 92)",
     "output_type": "error",
     "traceback": [
      "\u001b[1;36m  File \u001b[1;32m\"<ipython-input-2-8ca783675601>\"\u001b[1;36m, line \u001b[1;32m92\u001b[0m\n\u001b[1;33m    print \"Invalid argument. Exactly one wave file location required as argument\"\u001b[0m\n\u001b[1;37m                                                                                ^\u001b[0m\n\u001b[1;31mSyntaxError\u001b[0m\u001b[1;31m:\u001b[0m Missing parentheses in call to 'print'. Did you mean print(\"Invalid argument. Exactly one wave file location required as argument\")?\n"
     ]
    }
   ],
   "source": [
    "def PrintWavHeader(strWAVFile):\n",
    "    \"\"\" \n",
    "    Extracts data in the first 44 bytes in a WAV file and writes it\n",
    "            out in a human-readable format\n",
    "    \"\"\"\n",
    "    import os\n",
    "    import struct\n",
    "    import logging\n",
    "    logging.basicConfig(level=logging.DEBUG)\n",
    "    \n",
    "    path = \"D:/RECORD/\"\n",
    "    \n",
    "    def DumpHeaderOutput(structHeaderFields):\n",
    "        for key in structHeaderFields.keys():\n",
    "            print(\"///%s: \" % (key), structHeaderFields[key])\n",
    "    # Open file\n",
    "    try:\n",
    "        fileIn = open(strWAVFile, 'rb')\n",
    "    except (IOError, err):\n",
    "        logging.debug(\"Could not open input file %s\" % (strWAVFile))\n",
    "        return\n",
    "    # end try\n",
    "    # Read in all data\n",
    "    bufHeader = fileIn.read(100)\n",
    "    print(bufHeader)\n",
    "    # Verify that the correct identifiers are present\n",
    "    \n",
    "    print(bufHeader[0:4], '\\n', bufHeader[12:16])\n",
    "    \n",
    "    if (bufHeader[0:4] != b\"RIFF\") or \\\n",
    "       (bufHeader[12:16] != b\"fmt \"): \n",
    "         logging.debug(\"Input file not a standard WAV file\")\n",
    "         return\n",
    "    # endif\n",
    "    stHeaderFields = {'ChunkSize' : 0, 'Format' : '',\n",
    "        'Subchunk1Size' : 0, 'AudioFormat' : 0,\n",
    "        'NumChannels' : 0, 'SampleRate' : 0,\n",
    "        'ByteRate' : 0, 'BlockAlign' : 0,\n",
    "        'BitsPerSample' : 0, 'Filename': ''}\n",
    "    # Parse fields\n",
    "    stHeaderFields['ChunkSize'] = struct.unpack('<L', bufHeader[4:8])[0]\n",
    "    stHeaderFields['Format'] = bufHeader[8:12]\n",
    "    stHeaderFields['Subchunk1Size'] = struct.unpack('<L', bufHeader[16:20])[0]\n",
    "    stHeaderFields['AudioFormat'] = struct.unpack('<H', bufHeader[20:22])[0]\n",
    "    stHeaderFields['NumChannels'] = struct.unpack('<H', bufHeader[22:24])[0]\n",
    "    stHeaderFields['SampleRate'] = struct.unpack('<L', bufHeader[24:28])[0]\n",
    "    stHeaderFields['ByteRate'] = struct.unpack('<L', bufHeader[28:32])[0]\n",
    "    stHeaderFields['BlockAlign'] = struct.unpack('<H', bufHeader[32:34])[0]\n",
    "    stHeaderFields['BitsPerSample'] = struct.unpack('<H', bufHeader[34:36])[0]\n",
    "    # Locate & read data chunk\n",
    "    chunksList = []\n",
    "    dataChunkLocation = 0\n",
    "    fileIn.seek(0, 2) # Seek to end of file\n",
    "    inputFileSize = fileIn.tell()\n",
    "    nextChunkLocation = 12 # skip the RIFF header\n",
    "    while 1:\n",
    "        # Read subchunk header\n",
    "        fileIn.seek(nextChunkLocation)\n",
    "        bufHeader = fileIn.read(8)\n",
    "        if bufHeader[0:4] == \"data\":\n",
    "            dataChunkLocation = nextChunkLocation\n",
    "        # endif\n",
    "        nextChunkLocation += (8 + struct.unpack('<L', bufHeader[4:8])[0]) \n",
    "        chunksList.append(bufHeader[0:4]) \n",
    "        if nextChunkLocation >= inputFileSize:\n",
    "            break\n",
    "        # endif\n",
    "    # end while\n",
    "    # Dump subchunk list\n",
    "    print(\"Subchunks Found: \")\n",
    "    \n",
    "    for chunkName in chunksList:\n",
    "        print(\"%s, \" % (chunkName),)\n",
    "    # end for\n",
    "    print(\"\\n\")\n",
    "    # Dump data chunk information\n",
    "    if dataChunkLocation != 0:\n",
    "        fileIn.seek(dataChunkLocation)\n",
    "        bufHeader = fileIn.read(8)\n",
    "        print(\"Data Chunk located at offset [%s] of data length [%s] bytes\" % \\\n",
    "            (dataChunkLocation, struct.unpack('<L', bufHeader[4:8])[0]))\n",
    "    # endif\n",
    "    # Print output\n",
    "    stHeaderFields['Filename'] = os.path.basename(strWAVFile)\n",
    "    DumpHeaderOutput(stHeaderFields)\n",
    "    # Close file\n",
    "    fileIn.close()\n",
    " \n",
    "if __name__ == \"__main__\":\n",
    "#     import sys\n",
    "#     if len(sys.argv) != 2:\n",
    "#        print \"Invalid argument. Exactly one wave file location required as argument\"\n",
    "#     else:\n",
    "#        PrintWavHeader(sys.argv[1])\n",
    "    PrintWavHeader('C:/Users/CheolHwang/Downloads/ssmovie_cut.wav')"
   ]
  },
  {
   "cell_type": "code",
   "execution_count": 1,
   "metadata": {},
   "outputs": [
    {
     "name": "stdout",
     "output_type": "stream",
     "text": [
      "['2019-09-02-00-52-51.WAV']\n"
     ]
    }
   ],
   "source": [
    "import os\n",
    "\n",
    "file_list = os.listdir('D:/RECORD')\n",
    "print(file_list)\n",
    "\n",
    "# wav에서 pcm으로 바꾸고 소리가 맞는지 확인해보기"
   ]
  }
 ],
 "metadata": {
  "kernelspec": {
   "display_name": "Python 3",
   "language": "python",
   "name": "python3"
  },
  "language_info": {
   "codemirror_mode": {
    "name": "ipython",
    "version": 3
   },
   "file_extension": ".py",
   "mimetype": "text/x-python",
   "name": "python",
   "nbconvert_exporter": "python",
   "pygments_lexer": "ipython3",
   "version": "3.7.4"
  }
 },
 "nbformat": 4,
 "nbformat_minor": 2
}
