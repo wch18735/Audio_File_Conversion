{
 "cells": [
  {
   "cell_type": "markdown",
   "metadata": {},
   "source": [
    "## Concatenate"
   ]
  },
  {
   "cell_type": "code",
   "execution_count": 35,
   "metadata": {},
   "outputs": [
    {
     "name": "stdout",
     "output_type": "stream",
     "text": [
      "file_list: ['chunk-00.wav', 'chunk-01.wav', 'chunk-02.wav', 'chunk-03.wav', 'chunk-04.wav']\n"
     ]
    }
   ],
   "source": [
    "import wave\n",
    "import os\n",
    "\n",
    "path = './Tested_Sample/'\n",
    "file_list = os.listdir(path)\n",
    "file_list_wav = [file for file in file_list if file.startswith(\"chunk\")]\n",
    "print(\"file_list: {}\".format(file_list_wav))\n",
    "\n",
    "outfile = \"concatenated.wav\"\n",
    "\n",
    "data = []\n",
    "\n",
    "for infile in file_list_wav:\n",
    "    w = wave.open(path+infile, 'rb')\n",
    "    data.append( [w.getparams(), w.readframes(w.getnframes())] )\n",
    "    w.close()\n",
    "\n",
    "output = wave.open(outfile, 'wb')\n",
    "output.setparams(data[0][0])\n",
    "\n",
    "for audio_chunk in range(len(file_list_wav)):\n",
    "    output.writeframes(data[audio_chunk][1])\n",
    "\n",
    "output.close()\n",
    "    \n",
    "# path = './Tested_Sample/'\n",
    "# a, fs, enc = audio.wavread(path+'chunk-00.wav')\n",
    "# b, fs, enc = audio.wavread(path+'chunk-01.wav')\n",
    "# c = scipy.vstack((a,b))\n",
    "# audiolab.wavwrite(c, 'file3.wav', fs, enc)"
   ]
  },
  {
   "cell_type": "markdown",
   "metadata": {},
   "source": [
    "**참고**\n",
    "- https://itholic.github.io/python-listdir-glob/ (파일 탐색)\n",
    "- https://mingrammer.com/introduce-comprehension-of-python/ (Comprehension)"
   ]
  }
 ],
 "metadata": {
  "kernelspec": {
   "display_name": "Python 3",
   "language": "python",
   "name": "python3"
  },
  "language_info": {
   "codemirror_mode": {
    "name": "ipython",
    "version": 3
   },
   "file_extension": ".py",
   "mimetype": "text/x-python",
   "name": "python",
   "nbconvert_exporter": "python",
   "pygments_lexer": "ipython3",
   "version": "3.7.6"
  }
 },
 "nbformat": 4,
 "nbformat_minor": 4
}
