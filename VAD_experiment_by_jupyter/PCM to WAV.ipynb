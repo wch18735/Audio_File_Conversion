{
 "cells": [
  {
   "cell_type": "code",
   "execution_count": null,
   "metadata": {},
   "outputs": [],
   "source": [
    "file = open(\"./sample/\")"
   ]
  },
  {
   "cell_type": "markdown",
   "metadata": {},
   "source": [
    "## PCM to WAV change"
   ]
  },
  {
   "cell_type": "code",
   "execution_count": 45,
   "metadata": {},
   "outputs": [],
   "source": [
    "# sample에 저장된 .pcm file을 wav 로 변환하는 코드\n",
    "# 전화 협대역인 8,000 Sampling Rate\n",
    "# .wav file 역시 8,000 sampling Rate\n",
    "\n",
    "import sys\n",
    "import wave\n",
    "import csv\n",
    "import os\n",
    "\n",
    "f = csv.reader(open('./sample_list.csv','r',encoding='utf-8')) # csv.reader() 로 한 번에 읽어옴\n",
    "audio_list = []                                                # 왜 audio_list = list() 는 안 될까??\n",
    "\n",
    "for audio_name, _ in f: # csv 로부터 audio_name 받아오기 \n",
    "    if audio_name == 'audio':\n",
    "        continue\n",
    "    else:\n",
    "        audio_name, _ = audio_name.split('.')\n",
    "        audio_list.append(audio_name) \n",
    "    \n",
    "sample_path = os.getcwd()\n",
    "\n",
    "for arg in audio_list:\n",
    "    with open(sample_path+'\\\\sample_pcm\\\\'+arg+'.pcm', 'rb') as pcmfile:\n",
    "        pcmdata = pcmfile.read()\n",
    "    with wave.open(arg+'.wav', 'wb') as wavfile:\n",
    "        wavfile.setparams((1, 2, 16000, 0, 'NONE', 'NONE'))\n",
    "        wavfile.writeframes(pcmdata)"
   ]
  },
  {
   "cell_type": "markdown",
   "metadata": {},
   "source": [
    "# Move File"
   ]
  },
  {
   "cell_type": "code",
   "execution_count": 46,
   "metadata": {},
   "outputs": [],
   "source": [
    "import shutil\n",
    "\n",
    "for filename in audio_list:\n",
    "    src = 'C:\\\\Users\\\\EC\\\\Desktop\\\\CH\\\\Jupyter\\\\VAD_experiment\\\\'\n",
    "    des = 'C:\\\\Users\\\\EC\\\\Desktop\\\\CH\\\\Jupyter\\\\VAD_experiment\\\\sample_wav\\\\'\n",
    "    shutil.move(src+filename+'.wav',des+filename+'.wav')"
   ]
  },
  {
   "cell_type": "markdown",
   "metadata": {},
   "source": [
    "# Move Label Text"
   ]
  },
  {
   "cell_type": "code",
   "execution_count": 43,
   "metadata": {},
   "outputs": [],
   "source": [
    "import shutil\n",
    "\n",
    "for filename in audio_list:\n",
    "#     src = 'C:\\\\Users\\\\EC\\\\Desktop\\\\CH\\\\Jupyter\\\\VAD_experiment\\\\sample_pcm\\\\'\n",
    "#     des = 'C:\\\\Users\\\\EC\\\\Desktop\\\\CH\\\\Jupyter\\\\VAD_experiment\\\\sample_txt\\\\'\n",
    "#     shutil.move(src+filename+'.txt',des+filename+'.txt')"
   ]
  },
  {
   "cell_type": "markdown",
   "metadata": {},
   "source": [
    "# Concatenate WAV Files"
   ]
  },
  {
   "cell_type": "code",
   "execution_count": null,
   "metadata": {},
   "outputs": [],
   "source": []
  },
  {
   "cell_type": "markdown",
   "metadata": {},
   "source": [
    "# Trouble Shooting"
   ]
  },
  {
   "cell_type": "markdown",
   "metadata": {},
   "source": [
    "■ Wave_write.setparams(tuple)\n",
    "\n",
    "The tuple should be `(nchannels, sampwidth, framerate, nframes, comptype, compname)`, with values valid for the set*() methods. Sets all parameters.\n",
    "\n",
    "■ Wave File total length = frames_number / sample_rate\n",
    "- sample_rate means how many times you do sampling in a second.  \n",
    "- so the result, frames_number divided sample_rate is total length and unit is second\n"
   ]
  }
 ],
 "metadata": {
  "kernelspec": {
   "display_name": "Python 3",
   "language": "python",
   "name": "python3"
  },
  "language_info": {
   "codemirror_mode": {
    "name": "ipython",
    "version": 3
   },
   "file_extension": ".py",
   "mimetype": "text/x-python",
   "name": "python",
   "nbconvert_exporter": "python",
   "pygments_lexer": "ipython3",
   "version": "3.7.6"
  }
 },
 "nbformat": 4,
 "nbformat_minor": 4
}
