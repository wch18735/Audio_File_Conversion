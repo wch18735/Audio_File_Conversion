{
 "cells": [
  {
   "cell_type": "code",
   "execution_count": 1,
   "metadata": {},
   "outputs": [],
   "source": [
    "import os\n",
    "from scipy.io import wavfile\n",
    "import matplotlib.pyplot as plt"
   ]
  },
  {
   "cell_type": "code",
   "execution_count": 3,
   "metadata": {},
   "outputs": [
    {
     "name": "stdout",
     "output_type": "stream",
     "text": [
      "b'RIFF$\\x0c\\x04\\x00WAVEfmt \\x10\\x00\\x00\\x00\\x01\\x00\\x01\\x00\\x80>\\x00\\x00\\x00}\\x00\\x00\\x02\\x00\\x10\\x00data\\x00\\x0c\\x04\\x00\\x12\\x00\\x12\\x00\\x11\\x00\\x12\\x00\\x12\\x00\\x0f\\x00\\x0e\\x00\\x0b\\x00\\t\\x00\\t\\x00\\x06\\x00\\x07\\x00\\x07\\x00\\x08\\x00\\t\\x00\\x07\\x00\\x08\\x00\\x07\\x00\\x08\\x00\\x07\\x00\\n'\n",
      "b'\\x00\\x0c\\x00\\t\\x00\\x0b\\x00\\n'\n",
      "\n",
      "\n",
      "b'\\x12\\x00\\x12\\x00\\x11\\x00\\x12\\x00\\x12\\x00\\x0f\\x00\\x0e\\x00\\x0b\\x00\\t\\x00\\t\\x00\\x06\\x00\\x07\\x00\\x07\\x00\\x08\\x00\\t\\x00\\x07\\x00\\x08\\x00\\x07\\x00\\x08\\x00\\x07\\x00\\n'\n",
      "b'\\x00\\x0c\\x00\\t\\x00\\x0b\\x00\\n'\n"
     ]
    }
   ],
   "source": [
    "file = open(\"./sample_wav/\"+'KaiSpeech_000020.wav','rb')\n",
    "l1 = file.readline()\n",
    "l2 = file.readline()\n",
    "print(l1)\n",
    "print(l2)\n",
    "\n",
    "print('\\n')\n",
    "\n",
    "file = open(\"./sample_pcm/\"+'KaiSpeech_000020.pcm','rb')\n",
    "l3 = file.readline()\n",
    "l4 = file.readline()\n",
    "print(l3)\n",
    "print(l4)\n",
    "\n",
    "file.close()"
   ]
  }
 ],
 "metadata": {
  "kernelspec": {
   "display_name": "Python 3",
   "language": "python",
   "name": "python3"
  },
  "language_info": {
   "codemirror_mode": {
    "name": "ipython",
    "version": 3
   },
   "file_extension": ".py",
   "mimetype": "text/x-python",
   "name": "python",
   "nbconvert_exporter": "python",
   "pygments_lexer": "ipython3",
   "version": "3.7.6"
  }
 },
 "nbformat": 4,
 "nbformat_minor": 4
}
